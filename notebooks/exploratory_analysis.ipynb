{
 "cells": [
  {
   "cell_type": "markdown",
   "id": "8bc92253",
   "metadata": {},
   "source": [
    "# Credit Card Fraud Detection - EDA"
   ]
  },
  {
   "cell_type": "code",
   "execution_count": null,
   "id": "2e1cfaf3",
   "metadata": {},
   "outputs": [],
   "source": [
    "import pandas as pd\n",
    "import matplotlib.pyplot as plt\n",
    "import seaborn as sns\n",
    "\n",
    "# Load data\n",
    "data = pd.read_csv('../data/creditcard.csv')\n",
    "data.head()\n"
   ]
  },
  {
   "cell_type": "markdown",
   "id": "f2d6f734",
   "metadata": {},
   "source": [
    "## Dataset Overview"
   ]
  },
  {
   "cell_type": "code",
   "execution_count": null,
   "id": "895986e1",
   "metadata": {},
   "outputs": [],
   "source": [
    "print(data.info())\n",
    "print(data.describe())\n"
   ]
  },
  {
   "cell_type": "markdown",
   "id": "4cece92d",
   "metadata": {},
   "source": [
    "## Class Distribution"
   ]
  },
  {
   "cell_type": "code",
   "execution_count": null,
   "id": "762dbe72",
   "metadata": {},
   "outputs": [],
   "source": [
    "fraud = data[data['Class'] == 1]\n",
    "valid = data[data['Class'] == 0]\n",
    "print(f\"Fraudulent transactions: {len(fraud)}\")\n",
    "print(f\"Valid transactions: {len(valid)}\")\n",
    "print(f\"Outlier fraction: {len(fraud) / float(len(valid)):.4f}\")\n",
    "\n",
    "sns.countplot(x=\"Class\", data=data)\n",
    "plt.title(\"Class Distribution\")\n",
    "plt.show()\n"
   ]
  },
  {
   "cell_type": "markdown",
   "id": "2a7b3f4f",
   "metadata": {},
   "source": [
    "## Transaction Amount Comparison"
   ]
  },
  {
   "cell_type": "code",
   "execution_count": null,
   "id": "4370d295",
   "metadata": {},
   "outputs": [],
   "source": [
    "print(\"Fraud Amount Stats:\")\n",
    "print(fraud['Amount'].describe())\n",
    "\n",
    "print(\"Valid Amount Stats:\")\n",
    "print(valid['Amount'].describe())\n",
    "\n",
    "plt.figure(figsize=(10,5))\n",
    "sns.histplot(valid['Amount'], bins=50, color='green', label='Valid', kde=True)\n",
    "sns.histplot(fraud['Amount'], bins=50, color='red', label='Fraud', kde=True)\n",
    "plt.legend()\n",
    "plt.title(\"Transaction Amount Comparison\")\n",
    "plt.show()\n"
   ]
  },
  {
   "cell_type": "markdown",
   "id": "90b6b7a9",
   "metadata": {},
   "source": [
    "## Correlation Matrix"
   ]
  },
  {
   "cell_type": "code",
   "execution_count": null,
   "id": "36e8ade4",
   "metadata": {},
   "outputs": [],
   "source": [
    "corrmat = data.corr()\n",
    "plt.figure(figsize=(12, 9))\n",
    "sns.heatmap(corrmat, vmax=0.8, square=True, cmap=\"coolwarm\")\n",
    "plt.title(\"Correlation Matrix\")\n",
    "plt.show()\n"
   ]
  }
 ],
 "metadata": {},
 "nbformat": 4,
 "nbformat_minor": 5
}